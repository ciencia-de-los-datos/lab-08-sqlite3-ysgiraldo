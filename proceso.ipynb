{
 "cells": [
  {
   "cell_type": "code",
   "execution_count": 2,
   "metadata": {},
   "outputs": [],
   "source": [
    "import sqlite3\n",
    "import pandas as pd\n",
    "\n",
    "def load_data():\n",
    "    conn = sqlite3.connect(\":memory:\")\n",
    "    cur = conn.cursor()\n",
    "\n",
    "    with open(\"create_tables.sql\", encoding =\"utf-8\") as file:\n",
    "        conn.executescript(file.read()) # es parte de la conexion\n",
    "        conn.commit() # con este grabamos los cambios\n",
    "        \n",
    "    return conn, cur\n",
    "\n",
    "conn, cur = load_data()"
   ]
  },
  {
   "cell_type": "code",
   "execution_count": 16,
   "metadata": {},
   "outputs": [
    {
     "data": {
      "text/plain": [
       "{'SUM(c12)': {0: 15137.63}}"
      ]
     },
     "execution_count": 16,
     "metadata": {},
     "output_type": "execute_result"
    }
   ],
   "source": [
    "# Pregunta 1\n",
    "with open(\"pregunta_01.sql\", encoding=\"utf-8\") as file:\n",
    "    query = file.read()\n",
    "\n",
    "pd.read_sql_query(query, conn).to_dict()"
   ]
  },
  {
   "cell_type": "code",
   "execution_count": 18,
   "metadata": {},
   "outputs": [
    {
     "name": "stdout",
     "output_type": "stream",
     "text": [
      "{'COUNT(*)': {0: 30}}\n"
     ]
    }
   ],
   "source": [
    "# Pregunta 2\n",
    "with open(\"pregunta_02.sql\", encoding=\"utf-8\") as file:\n",
    "    query = file.read()\n",
    "\n",
    "df = pd.read_sql_query(query, conn).to_dict()\n",
    "print(df)"
   ]
  },
  {
   "cell_type": "code",
   "execution_count": 20,
   "metadata": {},
   "outputs": [
    {
     "data": {
      "text/plain": [
       "{'K0': {0: 'E',\n",
       "  1: 'D',\n",
       "  2: 'E',\n",
       "  3: 'D',\n",
       "  4: 'C',\n",
       "  5: 'A',\n",
       "  6: 'C',\n",
       "  7: 'E',\n",
       "  8: 'C',\n",
       "  9: 'A',\n",
       "  10: 'C',\n",
       "  11: 'B',\n",
       "  12: 'C',\n",
       "  13: 'E',\n",
       "  14: 'C',\n",
       "  15: 'B',\n",
       "  16: 'E',\n",
       "  17: 'A',\n",
       "  18: 'C',\n",
       "  19: 'A',\n",
       "  20: 'B',\n",
       "  21: 'E',\n",
       "  22: 'E',\n",
       "  23: 'C',\n",
       "  24: 'E',\n",
       "  25: 'A',\n",
       "  26: 'E',\n",
       "  27: 'B',\n",
       "  28: 'D',\n",
       "  29: 'A'},\n",
       " 'c16': {0: 'BDGD',\n",
       "  1: 'BCCC',\n",
       "  2: 'BAED',\n",
       "  3: 'BGDD',\n",
       "  4: 'GGFC',\n",
       "  5: 'BFGB',\n",
       "  6: 'GCDB',\n",
       "  7: 'DFCC',\n",
       "  8: 'DGCE',\n",
       "  9: 'DAGC',\n",
       "  10: 'FBBC',\n",
       "  11: 'FCGD',\n",
       "  12: 'EDDA',\n",
       "  13: 'EGFD',\n",
       "  14: 'GCDD',\n",
       "  15: 'BDEE',\n",
       "  16: 'BGGA',\n",
       "  17: 'GGFD',\n",
       "  18: 'FBEE',\n",
       "  19: 'BECB',\n",
       "  20: 'GFAE',\n",
       "  21: 'GEFE',\n",
       "  22: 'FBGC',\n",
       "  23: 'CCCE',\n",
       "  24: 'BBBA',\n",
       "  25: 'FGED',\n",
       "  26: 'FBGD',\n",
       "  27: 'AGAA',\n",
       "  28: 'GCEA',\n",
       "  29: 'EGAB'}}"
      ]
     },
     "execution_count": 20,
     "metadata": {},
     "output_type": "execute_result"
    }
   ],
   "source": [
    "# Pregunta 4\n",
    "with open(\"pregunta_04.sql\", encoding=\"utf-8\") as file:\n",
    "    query = file.read()\n",
    "\n",
    "pd.read_sql_query(query, conn).to_dict()"
   ]
  },
  {
   "cell_type": "code",
   "execution_count": 3,
   "metadata": {},
   "outputs": [
    {
     "data": {
      "text/plain": [
       "{'Anio': {0: '2016', 1: '2017', 2: '2018', 3: '2019'},\n",
       " 'avg(c21)': {0: 564.4764285714285,\n",
       "  1: 515.1563636363637,\n",
       "  2: 557.5593749999999,\n",
       "  3: 550.9985714285714}}"
      ]
     },
     "execution_count": 3,
     "metadata": {},
     "output_type": "execute_result"
    }
   ],
   "source": [
    "# Pregunta 4\n",
    "with open(\"pregunta_08.sql\", encoding=\"utf-8\") as file:\n",
    "    query = file.read()\n",
    "\n",
    "pd.read_sql_query(query, conn).to_dict()"
   ]
  },
  {
   "cell_type": "code",
   "execution_count": 7,
   "metadata": {},
   "outputs": [
    {
     "data": {
      "text/plain": [
       "{'K0': {0: 'A', 1: 'B', 2: 'C', 3: 'D', 4: 'E'},\n",
       " 'avg(t2.c21)': {0: 593.495,\n",
       "  1: 575.47,\n",
       "  2: 530.7529999999999,\n",
       "  3: 655.6125,\n",
       "  4: 555.323076923077}}"
      ]
     },
     "execution_count": 7,
     "metadata": {},
     "output_type": "execute_result"
    }
   ],
   "source": [
    "# Pregunta 11\n",
    "with open(\"pregunta_14.sql\", encoding=\"utf-8\") as file:\n",
    "    query = file.read()\n",
    "\n",
    "pd.read_sql_query(query, conn).to_dict()"
   ]
  }
 ],
 "metadata": {
  "kernelspec": {
   "display_name": ".venv",
   "language": "python",
   "name": "python3"
  },
  "language_info": {
   "codemirror_mode": {
    "name": "ipython",
    "version": 3
   },
   "file_extension": ".py",
   "mimetype": "text/x-python",
   "name": "python",
   "nbconvert_exporter": "python",
   "pygments_lexer": "ipython3",
   "version": "3.10.1"
  }
 },
 "nbformat": 4,
 "nbformat_minor": 2
}
